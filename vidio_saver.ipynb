{
 "cells": [
  {
   "cell_type": "code",
   "execution_count": 1,
   "metadata": {},
   "outputs": [],
   "source": [
    "import cv2\n",
    "import numpy as np\n",
    "import sys\n",
    "import io\n",
    "import time"
   ]
  },
  {
   "cell_type": "markdown",
   "metadata": {},
   "source": [
    "## 파일명을 현재 시간으로 생성"
   ]
  },
  {
   "cell_type": "code",
   "execution_count": 2,
   "metadata": {},
   "outputs": [],
   "source": [
    "def makeFileName(saveDir = None, saveName = None):\n",
    "    if saveDir is None:\n",
    "        saveDir = \".\"\n",
    "    if saveName is not None:\n",
    "        return saveDir + '/' + saveName\n",
    "    timestr = time.strftime(\"%y%m%d_%H%M%S\")\n",
    "    saveName = \"Save_Rec_\" + timestr\n",
    "    return saveDir + '/' + saveName + '.mp4'"
   ]
  },
  {
   "cell_type": "code",
   "execution_count": 3,
   "metadata": {},
   "outputs": [],
   "source": [
    "def VideoWrite():\n",
    "    try:\n",
    "        print(\"카메라 구동\")\n",
    "        cap = cv2.VideoCapture(0)\n",
    "    except:\n",
    "        print(\"카메라 실패\")\n",
    "        return\n",
    "    \n",
    "    recode = False\n",
    "    default_path = 'rec'\n",
    "    newFileName = makeFileName(saveDir = default_path)\n",
    "    \n",
    "    # 폭, 높이 값을 카메라속성에 맞춤 (probID : 3 = 너비, 4 = 높이)\n",
    "    # cap.set(probID, 속성값) 은 출력될 값들을 지정\n",
    "    # cap.get(probID) 는 해당 속성에 대한 값을 리턴\n",
    "    # 아래의 폭과 높이는 웹캠의 속성을 그대로 가져와 사용하는것.\n",
    "    width = int(cap.get(3))\n",
    "    height = int(cap.get(4))\n",
    "    \n",
    "    fps = 20.0 # 초당 프레임 횟수\n",
    "    \n",
    "    # 코덱정보를 나타냄 아래의 두줄과 같이 사용할 수 있음.\n",
    "    # 여러가지의 코덱종류가 있지만 윈도우라면 DIVX 를 사용\n",
    "    fourcc = cv2.VideoWriter_fourcc(*'DIVX')\n",
    "    # fourcc = cv2.VideoWriter_fourcc('D','I','V','X')\n",
    "\n",
    "    # 비디오 저장을 위한 객체를 생성해줌.\n",
    "    out = cv2.VideoWriter(newFileName,fourcc, fps,(width, height))\n",
    "    \n",
    "    while(True):\n",
    "        ret, frame = cap.read()\n",
    "\n",
    "        if not ret:\n",
    "            print(\"비디오 읽기 오류\")\n",
    "            break\n",
    "\n",
    "        # 비디오 프레임이 정확하게 촬영되었으면 화면에 출력하여줌\n",
    "        cv2.imshow('video',frame)\n",
    "        # 비디오 프레임이 제대로 출력되면 해당파일에 프레임을 저장\n",
    "        out.write(frame)\n",
    "\n",
    "        # ESC키값을 입력받으면 녹화종료 메세지와 함께 녹화종료\n",
    "        k= cv2.waitKey(1)\n",
    "        if(k == 27):\n",
    "            print('녹화 종료')\n",
    "            break\n",
    "    cap.release()\n",
    "    out.release()\n",
    "    cv2.destroyAllWindows()\n",
    "\n",
    "\n",
    "\n",
    "\n",
    "\n",
    "\n",
    "\n"
   ]
  },
  {
   "cell_type": "code",
   "execution_count": 4,
   "metadata": {},
   "outputs": [
    {
     "name": "stdout",
     "output_type": "stream",
     "text": [
      "카메라 구동\n",
      "녹화 종료\n"
     ]
    }
   ],
   "source": [
    "if __name__ == '__main__':\n",
    "    VideoWrite()"
   ]
  },
  {
   "cell_type": "code",
   "execution_count": null,
   "metadata": {},
   "outputs": [],
   "source": []
  }
 ],
 "metadata": {
  "kernelspec": {
   "display_name": "Python 3",
   "language": "python",
   "name": "python3"
  },
  "language_info": {
   "codemirror_mode": {
    "name": "ipython",
    "version": 3
   },
   "file_extension": ".py",
   "mimetype": "text/x-python",
   "name": "python",
   "nbconvert_exporter": "python",
   "pygments_lexer": "ipython3",
   "version": "3.8.5"
  }
 },
 "nbformat": 4,
 "nbformat_minor": 4
}
